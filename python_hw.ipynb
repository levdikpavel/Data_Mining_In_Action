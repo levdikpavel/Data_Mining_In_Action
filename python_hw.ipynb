{
 "cells": [
  {
   "cell_type": "code",
   "execution_count": 10,
   "metadata": {
    "collapsed": true
   },
   "outputs": [],
   "source": [
    "import numpy as np\n",
    "import pandas as pd"
   ]
  },
  {
   "cell_type": "markdown",
   "metadata": {},
   "source": [
    "# Python"
   ]
  },
  {
   "cell_type": "markdown",
   "metadata": {},
   "source": [
    "## 1. FizzBuzz questions"
   ]
  },
  {
   "cell_type": "code",
   "execution_count": 7,
   "metadata": {
    "collapsed": false,
    "scrolled": true
   },
   "outputs": [
    {
     "name": "stdout",
     "output_type": "stream",
     "text": [
      "1\n",
      "2\n",
      "Fizz\n",
      "4\n",
      "Buzz\n",
      "Fizz\n",
      "7\n",
      "8\n",
      "Fizz\n",
      "Buzz\n",
      "11\n",
      "Fizz\n",
      "13\n",
      "14\n",
      "FizzBuzz\n",
      "16\n",
      "17\n",
      "Fizz\n",
      "19\n",
      "Buzz\n",
      "Fizz\n",
      "22\n",
      "23\n",
      "Fizz\n",
      "Buzz\n",
      "26\n",
      "Fizz\n",
      "28\n",
      "29\n",
      "FizzBuzz\n",
      "31\n",
      "32\n",
      "Fizz\n",
      "34\n",
      "Buzz\n",
      "Fizz\n",
      "37\n",
      "38\n",
      "Fizz\n",
      "Buzz\n",
      "41\n",
      "Fizz\n",
      "43\n",
      "44\n",
      "FizzBuzz\n",
      "46\n",
      "47\n",
      "Fizz\n",
      "49\n",
      "Buzz\n",
      "Fizz\n",
      "52\n",
      "53\n",
      "Fizz\n",
      "Buzz\n",
      "56\n",
      "Fizz\n",
      "58\n",
      "59\n",
      "FizzBuzz\n",
      "61\n",
      "62\n",
      "Fizz\n",
      "64\n",
      "Buzz\n",
      "Fizz\n",
      "67\n",
      "68\n",
      "Fizz\n",
      "Buzz\n",
      "71\n",
      "Fizz\n",
      "73\n",
      "74\n",
      "FizzBuzz\n",
      "76\n",
      "77\n",
      "Fizz\n",
      "79\n",
      "Buzz\n",
      "Fizz\n",
      "82\n",
      "83\n",
      "Fizz\n",
      "Buzz\n",
      "86\n",
      "Fizz\n",
      "88\n",
      "89\n",
      "FizzBuzz\n",
      "91\n",
      "92\n",
      "Fizz\n",
      "94\n",
      "Buzz\n",
      "Fizz\n",
      "97\n",
      "98\n",
      "Fizz\n",
      "Buzz\n"
     ]
    }
   ],
   "source": [
    "for i in range(1,101):\n",
    "    word = ''\n",
    "    if i % 3 == 0:\n",
    "        word += 'Fizz'\n",
    "    if i % 5 == 0:\n",
    "        word += 'Buzz'\n",
    "    if word == '':\n",
    "        word = str(i)\n",
    "    print word"
   ]
  },
  {
   "cell_type": "markdown",
   "metadata": {},
   "source": [
    "## 2. Fibonachi(100)"
   ]
  },
  {
   "cell_type": "code",
   "execution_count": 36,
   "metadata": {
    "collapsed": false
   },
   "outputs": [],
   "source": [
    "FIBONACHES = np.zeros(1001)\n",
    "FIBONACHES[[1,2]] = 1\n",
    "#FIBONACHES"
   ]
  },
  {
   "cell_type": "code",
   "execution_count": 37,
   "metadata": {
    "collapsed": false
   },
   "outputs": [],
   "source": [
    "# WARNING: does not work for x <= 0\n",
    "def Fibonachi(x):\n",
    "    if FIBONACHES[x] == 0:\n",
    "        FIBONACHES[x] = Fibonachi(x-1) + Fibonachi(x-2)\n",
    "    return FIBONACHES[x]    "
   ]
  },
  {
   "cell_type": "code",
   "execution_count": 38,
   "metadata": {
    "collapsed": false
   },
   "outputs": [
    {
     "data": {
      "text/plain": [
       "3.54224848179262e+20"
      ]
     },
     "execution_count": 38,
     "metadata": {},
     "output_type": "execute_result"
    }
   ],
   "source": [
    "Fibonachi(100)"
   ]
  },
  {
   "cell_type": "markdown",
   "metadata": {},
   "source": [
    "## 3. Quicksort"
   ]
  },
  {
   "cell_type": "code",
   "execution_count": 148,
   "metadata": {
    "collapsed": false
   },
   "outputs": [],
   "source": [
    "def qsort(a, l = 0, r = -100):\n",
    "    if r == -100:\n",
    "        r = len(a) - 1\n",
    "    l_old = l\n",
    "    r_old = r\n",
    "    if r-l < 1:\n",
    "        return a\n",
    "    m = a[l]\n",
    "    \n",
    "    while l <= r:        \n",
    "        while a[l] < m:\n",
    "            l += 1\n",
    "        while a[r] > m:\n",
    "            r -= 1\n",
    "        if l <= r:\n",
    "            t = a[l]\n",
    "            a[l] = a[r]\n",
    "            a[r] = t\n",
    "            l += 1\n",
    "            r -= 1\n",
    "            \n",
    "    if l_old < r:\n",
    "        a = qsort(a, l_old, r)\n",
    "    if l < r_old:\n",
    "        a = qsort(a, l, r_old)\n",
    "    return a"
   ]
  },
  {
   "cell_type": "code",
   "execution_count": 152,
   "metadata": {
    "collapsed": false
   },
   "outputs": [
    {
     "data": {
      "text/plain": [
       "[-6, -4, -1, 0, 1, 2, 2, 3, 4, 5, 7]"
      ]
     },
     "execution_count": 152,
     "metadata": {},
     "output_type": "execute_result"
    }
   ],
   "source": [
    "qsort([2,5,4,1,-4,7,0,3,2,-6,-1])"
   ]
  },
  {
   "cell_type": "markdown",
   "metadata": {},
   "source": [
    "## 4. List Comprehension Quicksort"
   ]
  },
  {
   "cell_type": "code",
   "execution_count": 189,
   "metadata": {
    "collapsed": false
   },
   "outputs": [],
   "source": [
    "def lc_qsort(a):\n",
    "    return (lambda y: y if len(y) <= 1 else lc_qsort(y))([x for x in a if x < a[0]]) + [x for x in a if x == a[0]] + (lambda y: y if len(y) <= 1 else lc_qsort(y))([x for x in a if x > a[0]])"
   ]
  },
  {
   "cell_type": "code",
   "execution_count": 190,
   "metadata": {
    "collapsed": false
   },
   "outputs": [
    {
     "data": {
      "text/plain": [
       "[-6, -4, -1, 0, 1, 2, 2, 3, 4, 5, 7]"
      ]
     },
     "execution_count": 190,
     "metadata": {},
     "output_type": "execute_result"
    }
   ],
   "source": [
    "lc_qsort([2,5,4,1,-4,7,0,3,2,-6,-1])"
   ]
  },
  {
   "cell_type": "markdown",
   "metadata": {},
   "source": [
    "# NumPy"
   ]
  },
  {
   "cell_type": "code",
   "execution_count": 191,
   "metadata": {
    "collapsed": true
   },
   "outputs": [],
   "source": [
    "import time"
   ]
  },
  {
   "cell_type": "code",
   "execution_count": 223,
   "metadata": {
    "collapsed": true
   },
   "outputs": [],
   "source": [
    "def linecpace_loop(first,last,count):\n",
    "    a_loop = np.zeros(count)\n",
    "    step = (last - first) * 1.0 / (count - 1)\n",
    "    for i in range(count):\n",
    "        a_loop[i] = first + step * i\n",
    "    return a_loop"
   ]
  },
  {
   "cell_type": "code",
   "execution_count": 403,
   "metadata": {
    "collapsed": false
   },
   "outputs": [
    {
     "name": "stdout",
     "output_type": "stream",
     "text": [
      "time_linspace = 0.0929999351501\n",
      "time_loop = 2.35700011253\n",
      "time_listcomprehension = 2.46300005913\n"
     ]
    }
   ],
   "source": [
    "linspace_first = 1\n",
    "linspace_last = 10000000\n",
    "linspace_count = 10000000\n",
    "linspace_step = (linspace_last - linspace_first) * 1.0 / (linspace_count - 1)\n",
    "\n",
    "time_array = []\n",
    "time_array += [time.time()]\n",
    "\n",
    "a_linspace = np.linspace(linspace_first,linspace_last,linspace_count)\n",
    "time_array += [time.time()]\n",
    "\n",
    "a_loop = linecpace_loop(linspace_first,linspace_last,linspace_count)\n",
    "time_array += [time.time()]\n",
    "\n",
    "a_listcomprehension = [(linspace_first + linspace_step * x) for x in range(linspace_count)]\n",
    "time_array += [time.time()]\n",
    "\n",
    "time_linspace = time_array[1] - time_array[0]\n",
    "time_loop = time_array[2] - time_array[1]\n",
    "time_listcomprehension = time_array[3] - time_array[2]\n",
    "#print a_linspace\n",
    "#print a_loop\n",
    "#print a_listcomprehension\n",
    "print 'time_linspace =',time_linspace\n",
    "print 'time_loop =',time_loop\n",
    "print 'time_listcomprehension =',time_listcomprehension"
   ]
  },
  {
   "cell_type": "code",
   "execution_count": 401,
   "metadata": {
    "collapsed": true
   },
   "outputs": [],
   "source": [
    "# Я не понял, что значит основные операции с массивами"
   ]
  },
  {
   "cell_type": "markdown",
   "metadata": {},
   "source": [
    "# Matplotlib"
   ]
  },
  {
   "cell_type": "code",
   "execution_count": 291,
   "metadata": {
    "collapsed": false
   },
   "outputs": [],
   "source": [
    "import matplotlib.pyplot as plt\n",
    "%matplotlib inline"
   ]
  },
  {
   "cell_type": "code",
   "execution_count": 405,
   "metadata": {
    "collapsed": true
   },
   "outputs": [],
   "source": [
    "x = np.arange(-4.,4.,0.1)\n",
    "y1 = x**2\n",
    "y2 = x**3\n",
    "y3 = np.sin(x) * 50\n",
    "y4 = np.abs(x)\n",
    "y5 = np.exp(-y4) * 2"
   ]
  },
  {
   "cell_type": "code",
   "execution_count": 407,
   "metadata": {
    "collapsed": false
   },
   "outputs": [
    {
     "data": {
      "image/png": "[encoded data removed]",
      "text/plain": [
       "<matplotlib.figure.Figure at 0x142d1bb38>"
      ]
     },
     "metadata": {},
     "output_type": "display_data"
    }
   ],
   "source": [
    "plt.figure(1)\n",
    "\n",
    "plt.subplot(121)\n",
    "plt.plot(x, y1, label=r'$x^2$')\n",
    "plt.plot(x, y2, label=r'$x^3$')\n",
    "plt.plot(x, y3, label=r'$50\\cdot\\sin (x)$')\n",
    "plt.xlabel(r'$x$')\n",
    "plt.ylabel(r'$y$')\n",
    "plt.legend(loc='outer lower right')\n",
    "\n",
    "plt.subplot(122)\n",
    "plt.plot(x, y4, label=r'$|x|$')\n",
    "plt.plot(x, y5, label=r'$2e^{-|x|}$')\n",
    "plt.xlabel(r'$x$')\n",
    "plt.ylabel(r'$y$')\n",
    "plt.legend(loc='lower right')\n",
    "\n",
    "plt.savefig('plot_levdikpavel.png')\n",
    "plt.show()"
   ]
  },
  {
   "cell_type": "markdown",
   "metadata": {},
   "source": [
    "# SciPy"
   ]
  },
  {
   "cell_type": "code",
   "execution_count": 397,
   "metadata": {
    "collapsed": false
   },
   "outputs": [],
   "source": [
    "from scipy.stats import norm\n",
    "from scipy.linalg import eig"
   ]
  },
  {
   "cell_type": "markdown",
   "metadata": {},
   "source": [
    "## Create matrix M"
   ]
  },
  {
   "cell_type": "code",
   "execution_count": 398,
   "metadata": {
    "collapsed": false
   },
   "outputs": [
    {
     "data": {
      "text/html": [
       "<div>\n",
       "<table border=\"1\" class=\"dataframe\">\n",
       "  <thead>\n",
       "    <tr style=\"text-align: right;\">\n",
       "      <th></th>\n",
       "      <th>0</th>\n",
       "      <th>1</th>\n",
       "      <th>2</th>\n",
       "      <th>3</th>\n",
       "      <th>4</th>\n",
       "    </tr>\n",
       "  </thead>\n",
       "  <tbody>\n",
       "    <tr>\n",
       "      <th>0</th>\n",
       "      <td>1.603733</td>\n",
       "      <td>0.880906</td>\n",
       "      <td>0.115517</td>\n",
       "      <td>0.737911</td>\n",
       "      <td>0.568585</td>\n",
       "    </tr>\n",
       "    <tr>\n",
       "      <th>1</th>\n",
       "      <td>0.782991</td>\n",
       "      <td>-0.801667</td>\n",
       "      <td>0.676975</td>\n",
       "      <td>-0.387471</td>\n",
       "      <td>-0.121817</td>\n",
       "    </tr>\n",
       "    <tr>\n",
       "      <th>2</th>\n",
       "      <td>0.417577</td>\n",
       "      <td>0.731611</td>\n",
       "      <td>0.674984</td>\n",
       "      <td>0.991482</td>\n",
       "      <td>1.751300</td>\n",
       "    </tr>\n",
       "    <tr>\n",
       "      <th>3</th>\n",
       "      <td>-1.161776</td>\n",
       "      <td>0.246741</td>\n",
       "      <td>-0.180420</td>\n",
       "      <td>1.042183</td>\n",
       "      <td>-1.122288</td>\n",
       "    </tr>\n",
       "    <tr>\n",
       "      <th>4</th>\n",
       "      <td>-0.125030</td>\n",
       "      <td>-1.047846</td>\n",
       "      <td>1.075087</td>\n",
       "      <td>0.652539</td>\n",
       "      <td>-0.401034</td>\n",
       "    </tr>\n",
       "  </tbody>\n",
       "</table>\n",
       "</div>"
      ],
      "text/plain": [
       "          0         1         2         3         4\n",
       "0  1.603733  0.880906  0.115517  0.737911  0.568585\n",
       "1  0.782991 -0.801667  0.676975 -0.387471 -0.121817\n",
       "2  0.417577  0.731611  0.674984  0.991482  1.751300\n",
       "3 -1.161776  0.246741 -0.180420  1.042183 -1.122288\n",
       "4 -0.125030 -1.047846  1.075087  0.652539 -0.401034"
      ]
     },
     "execution_count": 398,
     "metadata": {},
     "output_type": "execute_result"
    }
   ],
   "source": [
    "M = norm.rvs(size=(5,5),loc=0,scale=1)\n",
    "M_df = pd.DataFrame(M)\n",
    "M_df"
   ]
  },
  {
   "cell_type": "markdown",
   "metadata": {},
   "source": [
    "## Find eigenvalues and eigenvectors"
   ]
  },
  {
   "cell_type": "code",
   "execution_count": 399,
   "metadata": {
    "collapsed": false
   },
   "outputs": [
    {
     "name": "stdout",
     "output_type": "stream",
     "text": [
      "[-2.04928215+0.j          1.43722994+1.02101491j  1.43722994-1.02101491j\n",
      "  1.12210873+0.j          0.17091219+0.j        ]\n"
     ]
    },
    {
     "data": {
      "text/html": [
       "<div>\n",
       "<table border=\"1\" class=\"dataframe\">\n",
       "  <thead>\n",
       "    <tr style=\"text-align: right;\">\n",
       "      <th></th>\n",
       "      <th>0</th>\n",
       "      <th>1</th>\n",
       "      <th>2</th>\n",
       "      <th>3</th>\n",
       "      <th>4</th>\n",
       "    </tr>\n",
       "  </thead>\n",
       "  <tbody>\n",
       "    <tr>\n",
       "      <th>0</th>\n",
       "      <td>(0.219640496684+0j)</td>\n",
       "      <td>(-0.23705753861+0.227292772305j)</td>\n",
       "      <td>(-0.23705753861-0.227292772305j)</td>\n",
       "      <td>(-0.461334771796+0j)</td>\n",
       "      <td>(0.123493174363+0j)</td>\n",
       "    </tr>\n",
       "    <tr>\n",
       "      <th>1</th>\n",
       "      <td>(-0.512886219101+0j)</td>\n",
       "      <td>(-0.169202697091+0.259692289726j)</td>\n",
       "      <td>(-0.169202697091-0.259692289726j)</td>\n",
       "      <td>(0.0995344371205+0j)</td>\n",
       "      <td>(-0.562793600423+0j)</td>\n",
       "    </tr>\n",
       "    <tr>\n",
       "      <th>2</th>\n",
       "      <td>(0.535645363687+0j)</td>\n",
       "      <td>(-0.58942566011+0j)</td>\n",
       "      <td>(-0.58942566011-0j)</td>\n",
       "      <td>(0.75017015117+0j)</td>\n",
       "      <td>(-0.687864418354+0j)</td>\n",
       "    </tr>\n",
       "    <tr>\n",
       "      <th>3</th>\n",
       "      <td>(-0.0738096316063+0j)</td>\n",
       "      <td>(0.235763639223-0.530663966884j)</td>\n",
       "      <td>(0.235763639223+0.530663966884j)</td>\n",
       "      <td>(-0.240253270154+0j)</td>\n",
       "      <td>(0.405697803791+0j)</td>\n",
       "    </tr>\n",
       "    <tr>\n",
       "      <th>4</th>\n",
       "      <td>(-0.629556956211+0j)</td>\n",
       "      <td>(-0.262812010464-0.205889727841j)</td>\n",
       "      <td>(-0.262812010464+0.205889727841j)</td>\n",
       "      <td>(0.395962415681+0j)</td>\n",
       "      <td>(0.173967333629+0j)</td>\n",
       "    </tr>\n",
       "  </tbody>\n",
       "</table>\n",
       "</div>"
      ],
      "text/plain": [
       "                       0                                  1  \\\n",
       "0    (0.219640496684+0j)   (-0.23705753861+0.227292772305j)   \n",
       "1   (-0.512886219101+0j)  (-0.169202697091+0.259692289726j)   \n",
       "2    (0.535645363687+0j)                (-0.58942566011+0j)   \n",
       "3  (-0.0738096316063+0j)   (0.235763639223-0.530663966884j)   \n",
       "4   (-0.629556956211+0j)  (-0.262812010464-0.205889727841j)   \n",
       "\n",
       "                                   2                     3  \\\n",
       "0   (-0.23705753861-0.227292772305j)  (-0.461334771796+0j)   \n",
       "1  (-0.169202697091-0.259692289726j)  (0.0995344371205+0j)   \n",
       "2                (-0.58942566011-0j)    (0.75017015117+0j)   \n",
       "3   (0.235763639223+0.530663966884j)  (-0.240253270154+0j)   \n",
       "4  (-0.262812010464+0.205889727841j)   (0.395962415681+0j)   \n",
       "\n",
       "                      4  \n",
       "0   (0.123493174363+0j)  \n",
       "1  (-0.562793600423+0j)  \n",
       "2  (-0.687864418354+0j)  \n",
       "3   (0.405697803791+0j)  \n",
       "4   (0.173967333629+0j)  "
      ]
     },
     "execution_count": 399,
     "metadata": {},
     "output_type": "execute_result"
    }
   ],
   "source": [
    "eigs = eig(M)\n",
    "print eigs[0]\n",
    "M_eigs_df = pd.DataFrame(eigs[1])\n",
    "M_eigs_df"
   ]
  },
  {
   "cell_type": "markdown",
   "metadata": {},
   "source": [
    "## Ensure eigs"
   ]
  },
  {
   "cell_type": "code",
   "execution_count": 400,
   "metadata": {
    "collapsed": false
   },
   "outputs": [
    {
     "data": {
      "text/html": [
       "<div>\n",
       "<table border=\"1\" class=\"dataframe\">\n",
       "  <thead>\n",
       "    <tr style=\"text-align: right;\">\n",
       "      <th></th>\n",
       "      <th>0</th>\n",
       "      <th>1</th>\n",
       "      <th>2</th>\n",
       "      <th>3</th>\n",
       "      <th>4</th>\n",
       "    </tr>\n",
       "  </thead>\n",
       "  <tbody>\n",
       "    <tr>\n",
       "      <th>0</th>\n",
       "      <td>(0.219640496684-0j)</td>\n",
       "      <td>(-0.23705753861+0.227292772305j)</td>\n",
       "      <td>(-0.23705753861-0.227292772305j)</td>\n",
       "      <td>(-0.461334771796+0j)</td>\n",
       "      <td>(0.123493174363+0j)</td>\n",
       "    </tr>\n",
       "    <tr>\n",
       "      <th>1</th>\n",
       "      <td>(-0.512886219101-0j)</td>\n",
       "      <td>(-0.169202697091+0.259692289726j)</td>\n",
       "      <td>(-0.169202697091-0.259692289726j)</td>\n",
       "      <td>(0.0995344371205+0j)</td>\n",
       "      <td>(-0.562793600423+0j)</td>\n",
       "    </tr>\n",
       "    <tr>\n",
       "      <th>2</th>\n",
       "      <td>(0.535645363687-0j)</td>\n",
       "      <td>(-0.58942566011+3.08029680312e-16j)</td>\n",
       "      <td>(-0.58942566011-3.08029680312e-16j)</td>\n",
       "      <td>(0.75017015117+0j)</td>\n",
       "      <td>(-0.687864418354+0j)</td>\n",
       "    </tr>\n",
       "    <tr>\n",
       "      <th>3</th>\n",
       "      <td>(-0.0738096316063-0j)</td>\n",
       "      <td>(0.235763639223-0.530663966884j)</td>\n",
       "      <td>(0.235763639223+0.530663966884j)</td>\n",
       "      <td>(-0.240253270154+0j)</td>\n",
       "      <td>(0.405697803791+0j)</td>\n",
       "    </tr>\n",
       "    <tr>\n",
       "      <th>4</th>\n",
       "      <td>(-0.629556956211-0j)</td>\n",
       "      <td>(-0.262812010464-0.205889727841j)</td>\n",
       "      <td>(-0.262812010464+0.205889727841j)</td>\n",
       "      <td>(0.395962415681+0j)</td>\n",
       "      <td>(0.173967333629+0j)</td>\n",
       "    </tr>\n",
       "  </tbody>\n",
       "</table>\n",
       "</div>"
      ],
      "text/plain": [
       "                       0                                    1  \\\n",
       "0    (0.219640496684-0j)     (-0.23705753861+0.227292772305j)   \n",
       "1   (-0.512886219101-0j)    (-0.169202697091+0.259692289726j)   \n",
       "2    (0.535645363687-0j)  (-0.58942566011+3.08029680312e-16j)   \n",
       "3  (-0.0738096316063-0j)     (0.235763639223-0.530663966884j)   \n",
       "4   (-0.629556956211-0j)    (-0.262812010464-0.205889727841j)   \n",
       "\n",
       "                                     2                     3  \\\n",
       "0     (-0.23705753861-0.227292772305j)  (-0.461334771796+0j)   \n",
       "1    (-0.169202697091-0.259692289726j)  (0.0995344371205+0j)   \n",
       "2  (-0.58942566011-3.08029680312e-16j)    (0.75017015117+0j)   \n",
       "3     (0.235763639223+0.530663966884j)  (-0.240253270154+0j)   \n",
       "4    (-0.262812010464+0.205889727841j)   (0.395962415681+0j)   \n",
       "\n",
       "                      4  \n",
       "0   (0.123493174363+0j)  \n",
       "1  (-0.562793600423+0j)  \n",
       "2  (-0.687864418354+0j)  \n",
       "3   (0.405697803791+0j)  \n",
       "4   (0.173967333629+0j)  "
      ]
     },
     "execution_count": 400,
     "metadata": {},
     "output_type": "execute_result"
    }
   ],
   "source": [
    "pd.DataFrame(M.dot(eigs[1]) / eigs[0])"
   ]
  }
 ],
 "metadata": {
  "anaconda-cloud": {},
  "kernelspec": {
   "display_name": "Python [Root]",
   "language": "python",
   "name": "Python [Root]"
  },
  "language_info": {
   "codemirror_mode": {
    "name": "ipython",
    "version": 2
   },
   "file_extension": ".py",
   "mimetype": "text/x-python",
   "name": "python",
   "nbconvert_exporter": "python",
   "pygments_lexer": "ipython2",
   "version": "2.7.11"
  }
 },
 "nbformat": 4,
 "nbformat_minor": 0
}
